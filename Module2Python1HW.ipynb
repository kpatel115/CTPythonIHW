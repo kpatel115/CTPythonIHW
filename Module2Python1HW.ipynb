{
 "cells": [
  {
   "cell_type": "code",
   "execution_count": 4,
   "id": "e90802c5",
   "metadata": {},
   "outputs": [],
   "source": [
    "# Exercise 1\n",
    "color = input('What is your favorite color: ')\n",
    "make = input('What is your favorite car make or manufacturer: ')\n",
    "model = input('What is your favorite car makes model: ')\n",
    "year = int(input('What is your favorite year of your cars model and make: '))\n",
    "car_result = \"Your favorite car's color is {} and it is a {} {} from the year {}.\".format(color, make, model, year)\n",
    "print(car_result)"
   ]
  },
  {
   "cell_type": "code",
   "execution_count": 2,
   "id": "2226e8c0",
   "metadata": {},
   "outputs": [],
   "source": [
    "#Exercise 2\n",
    "user_input = input('Enter a word plz')\n",
    "\n",
    "if \"p\" in user_input:\n",
    "    print('p is in user input')\n",
    "else:\n",
    "    print('p is not in user input')"
   ]
  },
  {
   "cell_type": "code",
   "execution_count": 3,
   "id": "9d74ec4f",
   "metadata": {},
   "outputs": [],
   "source": [
    "#Exercise 3\n",
    "# Part 1 - cubed\n",
    "flag = True\n",
    "x = 1\n",
    "while flag:\n",
    "    cube = x ** 3\n",
    "    if cube >= 1000:\n",
    "        flag = False\n",
    "    else:\n",
    "        print(cube)\n",
    "        x = x + 1\n"
   ]
  },
  {
   "cell_type": "code",
   "execution_count": 6,
   "id": "72d6ad61",
   "metadata": {},
   "outputs": [
    {
     "name": "stdout",
     "output_type": "stream",
     "text": [
      "Prime numbers between 0 and 100 are:\n",
      "2\n",
      "3\n",
      "5\n",
      "7\n",
      "11\n",
      "13\n",
      "17\n",
      "19\n",
      "23\n",
      "29\n",
      "31\n",
      "37\n",
      "41\n",
      "43\n",
      "47\n",
      "53\n",
      "59\n",
      "61\n",
      "67\n",
      "71\n",
      "73\n",
      "79\n",
      "83\n",
      "89\n",
      "97\n"
     ]
    }
   ],
   "source": [
    "# Exercise 3 \n",
    "# Part 2 - prime number\n",
    "# n = 3\n",
    "# while n < 100:\n",
    "#     if n % 2 == 0 :\n",
    "        \n",
    "#         n = n + 1\n",
    "#     else:\n",
    "#         print(str(n) + \" is a prime number! \")\n",
    "#         n = n + 1\n",
    "lower = 0\n",
    "upper = 100\n",
    "\n",
    "print(\"Prime numbers between\", lower, \"and\", upper, \"are:\")\n",
    "\n",
    "for num in range(lower, upper + 1):\n",
    "   # all prime numbers are greater than 1\n",
    "   if num > 1:\n",
    "       for i in range(2, num):\n",
    "           if (num % i) == 0:\n",
    "               break\n",
    "       else:\n",
    "           print(num)"
   ]
  },
  {
   "cell_type": "code",
   "execution_count": 2,
   "id": "2eba8e59",
   "metadata": {},
   "outputs": [
    {
     "name": "stdout",
     "output_type": "stream",
     "text": [
      "Enter your age plz18\n",
      "old\n"
     ]
    }
   ],
   "source": [
    "# Exercise 3 \n",
    "# part 3 - Age\n",
    "age = int(input('Enter your age plz'))\n",
    "if age < 18:\n",
    "    print('kids')\n",
    "elif age > 18 and age < 65:\n",
    "    print('seniors')\n",
    "else:\n",
    "    print('old')"
   ]
  }
 ],
 "metadata": {
  "kernelspec": {
   "display_name": "Python 3 (ipykernel)",
   "language": "python",
   "name": "python3"
  },
  "language_info": {
   "codemirror_mode": {
    "name": "ipython",
    "version": 3
   },
   "file_extension": ".py",
   "mimetype": "text/x-python",
   "name": "python",
   "nbconvert_exporter": "python",
   "pygments_lexer": "ipython3",
   "version": "3.9.13"
  }
 },
 "nbformat": 4,
 "nbformat_minor": 5
}
